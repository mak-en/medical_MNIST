{
  "nbformat": 4,
  "nbformat_minor": 0,
  "metadata": {
    "colab": {
      "name": "test_file.ipynb",
      "provenance": [],
      "authorship_tag": "ABX9TyO4ap42ABq26x53r2X8IEiS"
    },
    "kernelspec": {
      "name": "python3",
      "display_name": "Python 3"
    },
    "language_info": {
      "name": "python"
    }
  },
  "cells": [
    {
      "cell_type": "code",
      "metadata": {
        "colab": {
          "base_uri": "https://localhost:8080/"
        },
        "id": "EZAhpo9y3FvL",
        "outputId": "3a56b052-e34b-41af-8e6c-916affddf000"
      },
      "source": [
        "print(\"Hello world!\")\n",
        "print(\"test line\")\n",
        "print(\"33 m2\")"
      ],
      "execution_count": 1,
      "outputs": [
        {
          "output_type": "stream",
          "name": "stdout",
          "text": [
            "Hello world!\n",
            "test line\n",
            "33 m2\n"
          ]
        }
      ]
    }
  ]
}